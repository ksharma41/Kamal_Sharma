{
 "cells": [
  {
   "cell_type": "code",
   "execution_count": 2,
   "metadata": {},
   "outputs": [
    {
     "name": "stdout",
     "output_type": "stream",
     "text": [
      "Calculate nth ugly number, WHAT is n?787\n",
      "The 787th ugly number is 11718750\n"
     ]
    }
   ],
   "source": [
    "#find nth ugly number, i.e., numbers whose only prime factors are {2,3,5} \n",
    "####number = raw_input(\"Which integer do you want to classify as ugly or not?\")\n",
    "####number = int(number)\n",
    "\n",
    "#define function maxDivide to divide an integer by maximum power of 2,3,5.\n",
    "def maxDivide(no,factor):\n",
    "    while no%factor == 0:\n",
    "        no = no/factor\n",
    "    return no                #returns the quotient after removing all powers of \"factor\"\n",
    "\n",
    "#define another function to divide by all possible powers of 2,3,5.\n",
    "def UglyOrNot(no):\n",
    "    no = maxDivide(no,2)\n",
    "    no = maxDivide(no,3)\n",
    "    no = maxDivide(no,5)\n",
    "    if no == 1: return no\n",
    "    else: return 0\n",
    "    return no\n",
    "\n",
    "## Check to see if inputted number is ugly or not\n",
    "####if UglyOrNot(number) == 1: \n",
    "####    print(\"This number is damn ugly!!\")\n",
    "####else: print (\"This is not an ugly number.\")\n",
    "\n",
    "##Find nth ugly number\n",
    "n = raw_input(\"Calculate nth ugly number, WHAT is n?\")\n",
    "n = int(n)\n",
    "ugly_array = [-1] * n\n",
    "\n",
    "k=0\n",
    "j=1\n",
    "while k<n:\n",
    "    if UglyOrNot(j) == 1: \n",
    "        ugly_array[k] = j\n",
    "        k=k+1\n",
    "    j=j+1\n",
    "    \n",
    "\n",
    "print (\"The %dth ugly number is %d\" %(n,ugly_array[n-1]))\n",
    "del ugly_array\n"
   ]
  },
  {
   "cell_type": "code",
   "execution_count": null,
   "metadata": {},
   "outputs": [],
   "source": []
  }
 ],
 "metadata": {
  "kernelspec": {
   "display_name": "Python 2",
   "language": "python",
   "name": "python2"
  },
  "language_info": {
   "codemirror_mode": {
    "name": "ipython",
    "version": 2
   },
   "file_extension": ".py",
   "mimetype": "text/x-python",
   "name": "python",
   "nbconvert_exporter": "python",
   "pygments_lexer": "ipython2",
   "version": "2.7.16"
  }
 },
 "nbformat": 4,
 "nbformat_minor": 2
}
