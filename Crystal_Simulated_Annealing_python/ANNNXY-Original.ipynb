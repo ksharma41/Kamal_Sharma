{
 "cells": [
  {
   "cell_type": "code",
   "execution_count": 12,
   "metadata": {},
   "outputs": [
    {
     "name": "stdout",
     "output_type": "stream",
     "text": [
      "Total Runtime is--- 3.02652287483 seconds ---\n"
     ]
    },
    {
     "data": {
      "text/plain": [
       "[<matplotlib.lines.Line2D at 0x7f7f8e02cb90>]"
      ]
     },
     "execution_count": 12,
     "metadata": {},
     "output_type": "execute_result"
    },
    {
     "data": {
      "image/png": "[encoded data removed]",
      "text/plain": [
       "<matplotlib.figure.Figure at 0x7f7f8e03b310>"
      ]
     },
     "metadata": {
      "needs_background": "light"
     },
     "output_type": "display_data"
    }
   ],
   "source": [
    "N=10  #NUmber of layers of molecules\n",
    "\n",
    "\n",
    "import time\n",
    "import numpy as np\n",
    "import matplotlib.pyplot as plt\n",
    "#import matplotlib as plt\n",
    "import scipy\n",
    "from scipy.optimize import basinhopping\n",
    "angle = np.random.uniform(0,2*3.14,(N,1))\n",
    "\n",
    "#angle = np.arange(2, 3, 0.1)\n",
    "len(angle)\n",
    "r=np.arange(N)\n",
    "\n",
    "\n",
    "\n",
    "\n",
    "##define POLAR .987\n",
    "#define J1 2\n",
    "#define J2 .897\n",
    "#define J3 .66\n",
    "#define T 1400\n",
    "\n",
    "start_time = time.time()\n",
    "\n",
    "J1=3.0E-4\n",
    "J2=1.0E-5 \n",
    "J3=2.0E-5\n",
    "TPU=187 \n",
    "TAF = 175\n",
    "T=181\n",
    "#P=(TPU-T)/B\n",
    "P=0.987\n",
    "field=9\n",
    "\n",
    "def hamiltonian(angle):\n",
    "    cost = 0\n",
    "    i=0\n",
    "    z=1\n",
    "    last_row=len(angle)\n",
    "    while Emin<2:\n",
    "        while i <(len(angle)-1):\n",
    "            cost = cost + J1*P**2 *np.cos(angle[i+1]-angle[i] ) - J2*P**4* np.cos(angle[i+1]-angle[i])  + J3*np.cos(angle[i+1]-angle[i-1]) + P*field*np.cos(angle[i])\n",
    "            i=i+1\n",
    "    energy=cost\n",
    "    return (energy)\n",
    "sol = scipy.optimize.basinhopping(hamiltonian, angle, niter=100, T=1.0, stepsize=0.5, minimizer_kwargs=None, take_step=None, accept_test=None, callback=None, interval=50, disp=False, niter_success=None, seed=None)\n",
    "final_config = sol.x\n",
    "final_config=final_config%(2*3.14)\n",
    "print(\"Total Runtime is--- %s seconds ---\" % (time.time() - start_time))\n",
    "plt.plot(r, final_config, '-ro')\n",
    "    \n",
    "\n"
   ]
  },
  {
   "cell_type": "code",
   "execution_count": null,
   "metadata": {},
   "outputs": [],
   "source": []
  }
 ],
 "metadata": {
  "kernelspec": {
   "display_name": "Python 2",
   "language": "python",
   "name": "python2"
  },
  "language_info": {
   "codemirror_mode": {
    "name": "ipython",
    "version": 2
   },
   "file_extension": ".py",
   "mimetype": "text/x-python",
   "name": "python",
   "nbconvert_exporter": "python",
   "pygments_lexer": "ipython2",
   "version": "2.7.15rc1"
  }
 },
 "nbformat": 4,
 "nbformat_minor": 2
}
