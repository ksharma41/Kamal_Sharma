{
 "cells": [
  {
   "cell_type": "code",
   "execution_count": 1,
   "metadata": {},
   "outputs": [
    {
     "name": "stdout",
     "output_type": "stream",
     "text": [
      "Let's calculate nth ugly number. What is n?787\n",
      "787th ugly number is 11718750\n"
     ]
    }
   ],
   "source": [
    "#nth ugly number using dynamic programming,  bottom-up approach\n",
    "number = raw_input(\"Let's calculate nth ugly number. What is n?\")\n",
    "number = int(number)\n",
    "ugly_array = [0] * number\n",
    "i2=i3=i5=0\n",
    "\n",
    "#First entry ugly_array[0] = 1\n",
    "ugly_array[0] = 1\n",
    "k=1\n",
    "while k<number:#this while loop prepares ugly numbers in ascending order\n",
    "    ugly_array[k] = min(ugly_array[i2]*2,ugly_array[i3]*3,ugly_array[i5]*5)\n",
    "    if ugly_array[k] == ugly_array[i2]*2:\n",
    "        i2+=1\n",
    "    if ugly_array[k] == ugly_array[i3]*3:\n",
    "        i3+=1\n",
    "    if ugly_array[k] == ugly_array[i5]*5:\n",
    "        i5+=1\n",
    "    k+=1\n",
    "print (\"%dth ugly number is %d\" %(number , ugly_array[number-1]))\n"
   ]
  },
  {
   "cell_type": "code",
   "execution_count": null,
   "metadata": {},
   "outputs": [],
   "source": []
  },
  {
   "cell_type": "code",
   "execution_count": null,
   "metadata": {},
   "outputs": [],
   "source": []
  }
 ],
 "metadata": {
  "kernelspec": {
   "display_name": "Python 2",
   "language": "python",
   "name": "python2"
  },
  "language_info": {
   "codemirror_mode": {
    "name": "ipython",
    "version": 2
   },
   "file_extension": ".py",
   "mimetype": "text/x-python",
   "name": "python",
   "nbconvert_exporter": "python",
   "pygments_lexer": "ipython2",
   "version": "2.7.16"
  }
 },
 "nbformat": 4,
 "nbformat_minor": 2
}
